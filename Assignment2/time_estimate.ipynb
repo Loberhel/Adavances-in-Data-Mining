{
 "cells": [
  {
   "cell_type": "markdown",
   "metadata": {},
   "source": [
    "# Time Estimate"
   ]
  },
  {
   "cell_type": "markdown",
   "metadata": {},
   "source": [
    "The task was to implement a naïve algorithm that calculates similarities of all pairs of users and run some tests to estimate the total run time of this “exact” algorithm (you don’t have to wait till it is finished)!"
   ]
  },
  {
   "cell_type": "code",
   "execution_count": 16,
   "metadata": {},
   "outputs": [],
   "source": [
    "import numpy as np\n",
    "import scipy\n",
    "import pandas as pd\n",
    "import time\n",
    "import math\n",
    "import itertools"
   ]
  },
  {
   "cell_type": "code",
   "execution_count": 17,
   "metadata": {},
   "outputs": [],
   "source": [
    "data = np.load('user_movie.npy')"
   ]
  },
  {
   "cell_type": "code",
   "execution_count": 25,
   "metadata": {},
   "outputs": [],
   "source": [
    "\"\"\"\"\"\n",
    "Takes the first 10 users and calculates their similarities to 10 other users.\n",
    "Out: estimated time to calculate sililarities of all users.\n",
    "\"\"\"\"\"\n",
    "\n",
    "def Jaccard_multiple(data):\n",
    "\n",
    "    start_time = time.time()\n",
    "\n",
    "    for i in range(10):\n",
    "\n",
    "        movie_comp = data[np.where(data[:,0] == i)]\n",
    "        movie_comp = set(movie_comp.flatten())\n",
    "\n",
    "        for j in range(i, 10):\n",
    "\n",
    "                movies = data[np.where(data[:,0] == j)]\n",
    "                movies = set(movies.flatten())\n",
    "\n",
    "                similarity = len((movie_comp & movies)) / len((movie_comp | movies))\n",
    "\n",
    "    print('Estimated total time in years: %s'%(((time.time() - start_time)*10000*5000)/(60*60*24*365)))"
   ]
  },
  {
   "cell_type": "code",
   "execution_count": 19,
   "metadata": {},
   "outputs": [],
   "source": [
    "\"\"\"\"\n",
    "Takes one random user and calculates the similarity to another random user.\n",
    "Repeats this for a number of iterations.\n",
    "Out: Estimated time to calculate similarities of all possible permutations.\n",
    "\"\"\"\"\n",
    "\n",
    "def Jaccard(data, iterations):    \n",
    "\n",
    "    n = len(np.unique(data[:,0]))\n",
    "    r = 2\n",
    "    permutations = math.factorial(n) / math.factorial(n-r)\n",
    "    combi = list(itertools.combinations(range(100), 2))\n",
    "    end_times = []\n",
    "    \n",
    "    for i in range(iterations):\n",
    "        rand = np.random.randint(0,len(combi))\n",
    "        select = combi[rand]\n",
    "        \n",
    "        user1 = data[np.where(data[:,0] == select[0])]\n",
    "        user2 = data[np.where(data[:,0] == select[1])]\n",
    "        comb1 = set(user1[:,1])\n",
    "        comb2 = set(user2[:,1])\n",
    "    \n",
    "        start_time = time.time()\n",
    "        similarity = len((comb1 & comb2)) / len((comb1 | comb2))\n",
    "        end_times.append(time.time() - start_time)\n",
    "    \n",
    "    total = sum(end_times)\n",
    "    out = (total/iterations)*permutations\n",
    "    return ('Estimated total time in days: %s'% (out/(60*60*24)))"
   ]
  },
  {
   "cell_type": "code",
   "execution_count": 26,
   "metadata": {},
   "outputs": [
    {
     "name": "stdout",
     "output_type": "stream",
     "text": [
      "Estimated total time in years: 9.043563869869207\n"
     ]
    }
   ],
   "source": [
    "Jaccard_multiple(data)"
   ]
  },
  {
   "cell_type": "code",
   "execution_count": 27,
   "metadata": {},
   "outputs": [
    {
     "data": {
      "text/plain": [
       "'Estimated total time in days: 8.446372286527577'"
      ]
     },
     "execution_count": 27,
     "metadata": {},
     "output_type": "execute_result"
    }
   ],
   "source": [
    "Jaccard(data, 100)"
   ]
  },
  {
   "cell_type": "markdown",
   "metadata": {},
   "source": [
    "## Notes and results jaccard\n",
    "For this exercise we tried two different approaches. The first calculates multiple similarites for a few users and then multiplies the time this takes to estimate the total runtime. For this method we times the whole process from selecting the users and their data to calculating their similarities. This method would take extremly long, in advance of several years.\n",
    " The other method implemented selects two random users (for computational reasons we only select possible combinations of the first 100 users) and calculates their similarity. The similarity calculation is then timed and multiplied by the total number of possible permutations of user combinations in the dataset. This process is repeated for several random combiations to get a more accurate estimation. With this method the calculation of all possible user pairs would take less than 10 day."
   ]
  }
 ],
 "metadata": {
  "kernelspec": {
   "display_name": "Python 3",
   "language": "python",
   "name": "python3"
  },
  "language_info": {
   "codemirror_mode": {
    "name": "ipython",
    "version": 3
   },
   "file_extension": ".py",
   "mimetype": "text/x-python",
   "name": "python",
   "nbconvert_exporter": "python",
   "pygments_lexer": "ipython3",
   "version": "3.7.3"
  }
 },
 "nbformat": 4,
 "nbformat_minor": 2
}
